{
  "metadata": {
    "kernelspec": {
      "language": "python",
      "display_name": "Python 3",
      "name": "python3"
    },
    "language_info": {
      "pygments_lexer": "ipython3",
      "nbconvert_exporter": "python",
      "version": "3.6.4",
      "file_extension": ".py",
      "codemirror_mode": {
        "name": "ipython",
        "version": 3
      },
      "name": "python",
      "mimetype": "text/x-python"
    },
    "colab": {
      "name": "House Price Prediction 🏡",
      "provenance": []
    }
  },
  "nbformat_minor": 0,
  "nbformat": 4,
  "cells": [
    {
      "cell_type": "markdown",
      "source": [
        "<center><h1 style=\"font-size:35px; font-family: 'Times New Roman'; letter-spacing: 0.1em;\">House Price Prediction 🏡</h1></center>"
      ],
      "metadata": {
        "id": "crHmZQgbBZXo"
      }
    },
    {
      "cell_type": "markdown",
      "source": [
        "<center><img src=\"https://images.unsplash.com/photo-1516156008625-3a9d6067fab5?ixlib=rb-1.2.1&ixid=MnwxMjA3fDB8MHxwaG90by1wYWdlfHx8fGVufDB8fHx8&auto=format&fit=crop&w=870&q=80\"></center>"
      ],
      "metadata": {
        "id": "o-bjhXc-BZXu"
      }
    },
    {
      "cell_type": "markdown",
      "source": [
        "<h2 style=\"font-family: 'Times New Roman'; letter-spacing: 0.05em;\">About the Dataset</h2>"
      ],
      "metadata": {
        "id": "ylJKan5vBZXv"
      }
    },
    {
      "cell_type": "markdown",
      "source": [
        "* **SalePrice** - the property's sale price in dollars. This is the target variable that you're trying to predict.\n",
        "* **MSSubClass**: The building class\n",
        "* **MSZoning**: The general zoning classification\n",
        "* **LotFrontage**: Linear feet of street connected to property\n",
        "* **LotArea**: Lot size in square feet\n",
        "* **Street**: Type of road access\n",
        "* **Alley**: Type of alley access\n",
        "* **LotShape**: General shape of property\n",
        "* **LandContour**: Flatness of the property\n",
        "* **Utilities**: Type of utilities available\n",
        "* **LotConfig**: Lot configuration\n",
        "* **LandSlope**: Slope of property\n",
        "* **Neighborhood**: Physical locations within Ames city limits\n",
        "* **Condition1**: Proximity to main road or railroad\n",
        "* **Condition2**: Proximity to main road or railroad (if a second is present)\n",
        "* **BldgType**: Type of dwelling\n",
        "* **HouseStyle**: Style of dwelling\n",
        "* **OverallQual**: Overall material and finish quality\n",
        "* **OverallCond**: Overall condition rating\n",
        "* **YearBuilt**: Original construction date\n",
        "* **YearRemodAdd**: Remodel date\n",
        "* **RoofStyle**: Type of roof\n",
        "* **RoofMatl**: Roof material\n",
        "* **Exterior1st**: Exterior covering on house\n",
        "* **Exterior2nd**: Exterior covering on house (if more than one material)\n",
        "* **MasVnrType**: Masonry veneer type\n",
        "* **MasVnrArea**: Masonry veneer area in square feet\n",
        "* **ExterQual**: Exterior material quality\n",
        "* **ExterCond**: Present condition of the material on the exterior\n",
        "* **Foundation**: Type of foundation\n",
        "* **BsmtQual**: Height of the basement\n",
        "* **BsmtCond**: General condition of the basement\n",
        "* **BsmtExposure**: Walkout or garden level basement walls\n",
        "* **BsmtFinType1**: Quality of basement finished area\n",
        "* **BsmtFinSF1**: Type 1 finished square feet\n",
        "* **BsmtFinType2**: Quality of second finished area (if present)\n",
        "* **BsmtFinSF2**: Type 2 finished square feet\n",
        "* **BsmtUnfSF**: Unfinished square feet of basement area\n",
        "* **TotalBsmtSF**: Total square feet of basement area\n",
        "* **Heating**: Type of heating\n",
        "* **HeatingQC**: Heating quality and condition\n",
        "* **CentralAir**: Central air conditioning\n",
        "* **Electrical**: Electrical system\n",
        "* **1stFlrSF**: First Floor square feet\n",
        "* **2ndFlrSF**: Second floor square feet\n",
        "* **LowQualFinSF**: Low quality finished square feet (all floors)\n",
        "* **GrLivArea**: Above grade (ground) living area square feet\n",
        "* **BsmtFullBath**: Basement full bathrooms\n",
        "* **BsmtHalfBath**: Basement half bathrooms\n",
        "* **FullBath**: Full bathrooms above grade\n",
        "* **HalfBath**: Half baths above grade\n",
        "* **Bedroom**: Number of bedrooms above basement level\n",
        "* **Kitchen**: Number of kitchens\n",
        "* **KitchenQual**: Kitchen quality\n",
        "* **TotRmsAbvGrd**: Total rooms above grade (does not include bathrooms)\n",
        "* **Functional**: Home functionality rating\n",
        "* **Fireplaces**: Number of fireplaces\n",
        "* **FireplaceQu**: Fireplace quality\n",
        "* **GarageType**: Garage location\n",
        "* **GarageYrBlt**: Year garage was built\n",
        "* **GarageFinish**: Interior finish of the garage\n",
        "* **GarageCars**: Size of garage in car capacity\n",
        "* **GarageArea**: Size of garage in square feet\n",
        "* **GarageQual**: Garage quality\n",
        "* **GarageCond**: Garage condition\n",
        "* **PavedDrive**: Paved driveway\n",
        "* **WoodDeckSF**: Wood deck area in square feet\n",
        "* **OpenPorchSF**: Open porch area in square feet\n",
        "* **EnclosedPorch**: Enclosed porch area in square feet\n",
        "* **3SsnPorch**: Three season porch area in square feet\n",
        "* **ScreenPorch**: Screen porch area in square feet\n",
        "* **PoolArea**: Pool area in square feet\n",
        "* **PoolQC**: Pool quality\n",
        "* **Fence**: Fence quality\n",
        "* **MiscFeature**: Miscellaneous feature not covered in other categories\n",
        "* **MiscVal**: Value of miscellaneous feature\n",
        "* **MoSold**: Month Sold\n",
        "* **YrSold**: Year Sold\n",
        "* **SaleType**: Type of sale\n",
        "* **SaleCondition**: Condition of sale"
      ],
      "metadata": {
        "id": "6wLe4AEFBZXv"
      }
    },
    {
      "cell_type": "markdown",
      "source": [
        "<h1 style=\"font-family: 'Times New Roman'; letter-spacing: 0.08em;\">Importing the Essential Libraries, Metrics</h1>"
      ],
      "metadata": {
        "id": "FxcCBdaPBZXx"
      }
    },
    {
      "cell_type": "code",
      "source": [
        "import numpy as np\n",
        "import pandas as pd\n",
        "import seaborn as sns\n",
        "import matplotlib.pyplot as plt\n",
        "import warnings\n",
        "warnings.filterwarnings(\"ignore\")\n",
        "\n",
        "from sklearn.model_selection import train_test_split, cross_val_score\n",
        "from sklearn.preprocessing import StandardScaler\n",
        "from sklearn.metrics import r2_score, mean_absolute_error, mean_squared_error\n",
        "\n",
        "from sklearn.linear_model import LinearRegression\n",
        "from sklearn.linear_model import Ridge\n",
        "from sklearn.linear_model import Lasso\n",
        "from sklearn.linear_model import ElasticNet\n",
        "from sklearn.ensemble import RandomForestRegressor\n",
        "from sklearn.svm import SVR\n",
        "from xgboost import XGBRegressor\n",
        "from sklearn.preprocessing import PolynomialFeatures"
      ],
      "metadata": {
        "_uuid": "8f2839f25d086af736a60e9eeb907d3b93b6e0e5",
        "_cell_guid": "b1076dfc-b9ad-4769-8c92-a6c4dae69d19",
        "execution": {
          "iopub.status.busy": "2022-01-07T14:42:49.151639Z",
          "iopub.execute_input": "2022-01-07T14:42:49.152088Z",
          "iopub.status.idle": "2022-01-07T14:42:49.159445Z",
          "shell.execute_reply.started": "2022-01-07T14:42:49.152057Z",
          "shell.execute_reply": "2022-01-07T14:42:49.158845Z"
        },
        "trusted": true,
        "id": "Iz7fLIRVBZXx"
      },
      "execution_count": null,
      "outputs": []
    },
    {
      "cell_type": "markdown",
      "source": [
        "<h1 style=\"font-family: 'Times New Roman'; letter-spacing: 0.08em;\">Loading the Data</h1>"
      ],
      "metadata": {
        "id": "OzcF74wABZXz"
      }
    },
    {
      "cell_type": "code",
      "source": [
        "df = pd.read_csv(\"../input/house-prices-advanced-regression-techniques/train.csv\")"
      ],
      "metadata": {
        "execution": {
          "iopub.status.busy": "2022-01-07T14:42:49.185796Z",
          "iopub.execute_input": "2022-01-07T14:42:49.186208Z",
          "iopub.status.idle": "2022-01-07T14:42:49.215332Z",
          "shell.execute_reply.started": "2022-01-07T14:42:49.186163Z",
          "shell.execute_reply": "2022-01-07T14:42:49.214435Z"
        },
        "trusted": true,
        "id": "K_0A-vxCBZXz"
      },
      "execution_count": null,
      "outputs": []
    },
    {
      "cell_type": "markdown",
      "source": [
        "<h1 style=\"font-family: 'Times New Roman'; letter-spacing: 0.08em;\">Exploratory Data Analysis</h1>"
      ],
      "metadata": {
        "id": "cx8N09p-BZX0"
      }
    },
    {
      "cell_type": "markdown",
      "source": [
        "***Taking a look at the first 5 rows of the dataset***"
      ],
      "metadata": {
        "id": "Nra0TanOBZX0"
      }
    },
    {
      "cell_type": "code",
      "source": [
        "df.head()"
      ],
      "metadata": {
        "execution": {
          "iopub.status.busy": "2022-01-07T14:42:49.216905Z",
          "iopub.execute_input": "2022-01-07T14:42:49.217132Z",
          "iopub.status.idle": "2022-01-07T14:42:49.24394Z",
          "shell.execute_reply.started": "2022-01-07T14:42:49.217104Z",
          "shell.execute_reply": "2022-01-07T14:42:49.243233Z"
        },
        "trusted": true,
        "id": "gfYW9C-MBZX0"
      },
      "execution_count": null,
      "outputs": []
    },
    {
      "cell_type": "markdown",
      "source": [
        "***Checking the shape—i.e. size—of the data***"
      ],
      "metadata": {
        "id": "Vgf6ywMUBZX1"
      }
    },
    {
      "cell_type": "code",
      "source": [
        "df.shape"
      ],
      "metadata": {
        "execution": {
          "iopub.status.busy": "2022-01-07T14:42:49.244952Z",
          "iopub.execute_input": "2022-01-07T14:42:49.245211Z",
          "iopub.status.idle": "2022-01-07T14:42:49.259271Z",
          "shell.execute_reply.started": "2022-01-07T14:42:49.24517Z",
          "shell.execute_reply": "2022-01-07T14:42:49.258241Z"
        },
        "trusted": true,
        "id": "SUGfT9LFBZX1"
      },
      "execution_count": null,
      "outputs": []
    },
    {
      "cell_type": "markdown",
      "source": [
        "***Learning the dtypes of columns' and how many non-null values are there in those columns***"
      ],
      "metadata": {
        "id": "ILS7mqzsBZX2"
      }
    },
    {
      "cell_type": "code",
      "source": [
        "df.info()"
      ],
      "metadata": {
        "execution": {
          "iopub.status.busy": "2022-01-07T14:42:49.26104Z",
          "iopub.execute_input": "2022-01-07T14:42:49.261295Z",
          "iopub.status.idle": "2022-01-07T14:42:49.291699Z",
          "shell.execute_reply.started": "2022-01-07T14:42:49.261264Z",
          "shell.execute_reply": "2022-01-07T14:42:49.290886Z"
        },
        "trusted": true,
        "id": "IyP8cv8wBZX2"
      },
      "execution_count": null,
      "outputs": []
    },
    {
      "cell_type": "markdown",
      "source": [
        "***Getting the statistical summary of dataset***"
      ],
      "metadata": {
        "id": "3RYbnyqxBZX3"
      }
    },
    {
      "cell_type": "code",
      "source": [
        "df.describe().T"
      ],
      "metadata": {
        "execution": {
          "iopub.status.busy": "2022-01-07T14:42:49.292878Z",
          "iopub.execute_input": "2022-01-07T14:42:49.293111Z",
          "iopub.status.idle": "2022-01-07T14:42:49.403189Z",
          "shell.execute_reply.started": "2022-01-07T14:42:49.293081Z",
          "shell.execute_reply": "2022-01-07T14:42:49.402321Z"
        },
        "trusted": true,
        "id": "EpUkkGeRBZX3"
      },
      "execution_count": null,
      "outputs": []
    },
    {
      "cell_type": "markdown",
      "source": [
        "***Visualizing the correlations between numerical variables***"
      ],
      "metadata": {
        "id": "3jTra3HSBZX3"
      }
    },
    {
      "cell_type": "code",
      "source": [
        "plt.figure(figsize=(10,8))\n",
        "sns.heatmap(df.corr(), cmap=\"RdBu\")\n",
        "plt.title(\"Correlations Between Variables\", size=15)\n",
        "plt.show()"
      ],
      "metadata": {
        "execution": {
          "iopub.status.busy": "2022-01-07T14:42:49.404263Z",
          "iopub.execute_input": "2022-01-07T14:42:49.404476Z",
          "iopub.status.idle": "2022-01-07T14:42:50.336586Z",
          "shell.execute_reply.started": "2022-01-07T14:42:49.404451Z",
          "shell.execute_reply": "2022-01-07T14:42:50.335653Z"
        },
        "trusted": true,
        "id": "4O0x3r8mBZX4"
      },
      "execution_count": null,
      "outputs": []
    },
    {
      "cell_type": "markdown",
      "source": [
        "<h1 style=\"font-family: 'Times New Roman'; letter-spacing: 0.08em;\">Feature Selection</h1>"
      ],
      "metadata": {
        "id": "9o0zObOvBZX4"
      }
    },
    {
      "cell_type": "markdown",
      "source": [
        "***We are selecting numerical features which have more than 0.50 or less than -0.50 correlation rate based on Pearson Correlation Method—which is the default value of parameter \"method\" in corr() function. As for selecting categorical features, I selected the categorical values which I believe have significant effect on the target variable such as Heating and MSZoning.***"
      ],
      "metadata": {
        "id": "4A1nOARqBZX4"
      }
    },
    {
      "cell_type": "code",
      "source": [
        "important_num_cols = list(df.corr()[\"SalePrice\"][(df.corr()[\"SalePrice\"]>0.50) | (df.corr()[\"SalePrice\"]<-0.50)].index)\n",
        "cat_cols = [\"MSZoning\", \"Utilities\",\"BldgType\",\"Heating\",\"KitchenQual\",\"SaleCondition\",\"LandSlope\"]\n",
        "important_cols = important_num_cols + cat_cols\n",
        "\n",
        "df = df[important_cols]"
      ],
      "metadata": {
        "execution": {
          "iopub.status.busy": "2022-01-07T14:42:50.337807Z",
          "iopub.execute_input": "2022-01-07T14:42:50.338051Z",
          "iopub.status.idle": "2022-01-07T14:42:50.366469Z",
          "shell.execute_reply.started": "2022-01-07T14:42:50.338019Z",
          "shell.execute_reply": "2022-01-07T14:42:50.365662Z"
        },
        "trusted": true,
        "id": "5wHLPCIOBZX5"
      },
      "execution_count": null,
      "outputs": []
    },
    {
      "cell_type": "markdown",
      "source": [
        "***Checking for the missing values***"
      ],
      "metadata": {
        "id": "vMfQyr55BZX5"
      }
    },
    {
      "cell_type": "code",
      "source": [
        "print(\"Missing Values by Column\")\n",
        "print(\"-\"*30)\n",
        "print(df.isna().sum())\n",
        "print(\"-\"*30)\n",
        "print(\"TOTAL MISSING VALUES:\",df.isna().sum().sum())"
      ],
      "metadata": {
        "execution": {
          "iopub.status.busy": "2022-01-07T14:42:50.367614Z",
          "iopub.execute_input": "2022-01-07T14:42:50.367829Z",
          "iopub.status.idle": "2022-01-07T14:42:50.380559Z",
          "shell.execute_reply.started": "2022-01-07T14:42:50.367799Z",
          "shell.execute_reply": "2022-01-07T14:42:50.379637Z"
        },
        "trusted": true,
        "id": "mn4ey8VMBZX5"
      },
      "execution_count": null,
      "outputs": []
    },
    {
      "cell_type": "markdown",
      "source": [
        "<h1 style=\"font-family: 'Times New Roman'; letter-spacing: 0.08em;\">Data Visualization</h1>"
      ],
      "metadata": {
        "id": "5L7YnCFtBZX5"
      }
    },
    {
      "cell_type": "markdown",
      "source": [
        "***Visualizing the Correlation between the numerical variables using pairplot visualization***"
      ],
      "metadata": {
        "id": "QMO4SVL1BZX5"
      }
    },
    {
      "cell_type": "code",
      "source": [
        "sns.pairplot(df[important_num_cols])"
      ],
      "metadata": {
        "execution": {
          "iopub.status.busy": "2022-01-07T14:42:50.382573Z",
          "iopub.execute_input": "2022-01-07T14:42:50.383174Z",
          "iopub.status.idle": "2022-01-07T14:43:18.133961Z",
          "shell.execute_reply.started": "2022-01-07T14:42:50.38312Z",
          "shell.execute_reply": "2022-01-07T14:43:18.133287Z"
        },
        "trusted": true,
        "id": "4Ut2R7HxBZX6"
      },
      "execution_count": null,
      "outputs": []
    },
    {
      "cell_type": "markdown",
      "source": [
        "***Visualizing the Correlation between each column and the target variable using jointplot visualization***"
      ],
      "metadata": {
        "id": "eR6A5NktBZX6"
      }
    },
    {
      "cell_type": "code",
      "source": [
        "plt.figure(figsize=(10,8))\n",
        "sns.jointplot(x=df[\"OverallQual\"], y=df[\"SalePrice\"], kind=\"kde\")\n",
        "sns.jointplot(x=df[\"YearBuilt\"], y=df[\"SalePrice\"], kind=\"kde\")\n",
        "sns.jointplot(x=df[\"YearRemodAdd\"], y=df[\"SalePrice\"], kind=\"kde\")\n",
        "sns.jointplot(x=df[\"TotalBsmtSF\"], y=df[\"SalePrice\"], kind=\"kde\")\n",
        "sns.jointplot(x=df[\"1stFlrSF\"], y=df[\"SalePrice\"], kind=\"kde\")\n",
        "sns.jointplot(x=df[\"GrLivArea\"], y=df[\"SalePrice\"], kind=\"kde\")\n",
        "sns.jointplot(x=df[\"FullBath\"], y=df[\"SalePrice\"], kind=\"kde\")\n",
        "sns.jointplot(x=df[\"TotRmsAbvGrd\"], y=df[\"SalePrice\"], kind=\"kde\")\n",
        "sns.jointplot(x=df[\"GarageCars\"], y=df[\"SalePrice\"], kind=\"kde\")\n",
        "sns.jointplot(x=df[\"GarageArea\"], y=df[\"SalePrice\"], kind=\"kde\")\n",
        "plt.show()"
      ],
      "metadata": {
        "execution": {
          "iopub.status.busy": "2022-01-07T14:43:18.134945Z",
          "iopub.execute_input": "2022-01-07T14:43:18.135643Z",
          "iopub.status.idle": "2022-01-07T14:43:34.570143Z",
          "shell.execute_reply.started": "2022-01-07T14:43:18.135597Z",
          "shell.execute_reply": "2022-01-07T14:43:34.569207Z"
        },
        "trusted": true,
        "id": "9Q47H_I_BZX6"
      },
      "execution_count": null,
      "outputs": []
    },
    {
      "cell_type": "markdown",
      "source": [
        "<h1 style=\"font-family: 'Times New Roman'; letter-spacing: 0.08em;\">X, y Split</h1>"
      ],
      "metadata": {
        "id": "ym_8X8eGBZX6"
      }
    },
    {
      "cell_type": "markdown",
      "source": [
        "***Splitting the data into X and y chunks***"
      ],
      "metadata": {
        "id": "uVtCdsgxBZX7"
      }
    },
    {
      "cell_type": "code",
      "source": [
        "X = df.drop(\"SalePrice\", axis=1)\n",
        "y = df[\"SalePrice\"]"
      ],
      "metadata": {
        "execution": {
          "iopub.status.busy": "2022-01-07T14:43:34.57145Z",
          "iopub.execute_input": "2022-01-07T14:43:34.571727Z",
          "iopub.status.idle": "2022-01-07T14:43:34.57769Z",
          "shell.execute_reply.started": "2022-01-07T14:43:34.571687Z",
          "shell.execute_reply": "2022-01-07T14:43:34.577003Z"
        },
        "trusted": true,
        "id": "zzwQIERiBZX7"
      },
      "execution_count": null,
      "outputs": []
    },
    {
      "cell_type": "markdown",
      "source": [
        "<h1 style=\"font-family: 'Times New Roman'; letter-spacing: 0.08em;\">One-Hot Encoding</h1>"
      ],
      "metadata": {
        "id": "HcRoiz39BZX7"
      }
    },
    {
      "cell_type": "markdown",
      "source": [
        "***Encoding the categorical features in X dataset by using One-Hot Encoding method***"
      ],
      "metadata": {
        "id": "WzkYkpG6BZX7"
      }
    },
    {
      "cell_type": "code",
      "source": [
        "X = pd.get_dummies(X, columns=cat_cols)"
      ],
      "metadata": {
        "execution": {
          "iopub.status.busy": "2022-01-07T14:43:34.57876Z",
          "iopub.execute_input": "2022-01-07T14:43:34.578981Z",
          "iopub.status.idle": "2022-01-07T14:43:34.59876Z",
          "shell.execute_reply.started": "2022-01-07T14:43:34.578953Z",
          "shell.execute_reply": "2022-01-07T14:43:34.598001Z"
        },
        "trusted": true,
        "id": "Xzp85Tn5BZX8"
      },
      "execution_count": null,
      "outputs": []
    },
    {
      "cell_type": "markdown",
      "source": [
        "<h1 style=\"font-family: 'Times New Roman'; letter-spacing: 0.08em;\">Standardizing the Data</h1>"
      ],
      "metadata": {
        "id": "mdq-IoagBZX8"
      }
    },
    {
      "cell_type": "markdown",
      "source": [
        "***Standardizing the numerical columns in X dataset. StandardScaler() adjusts the mean of the features as 0 and standard deviation of features as 1. Formula that StandardScaler() uses is as follows:***"
      ],
      "metadata": {
        "id": "8nQQ84U3BZX8"
      }
    },
    {
      "cell_type": "markdown",
      "source": [
        "<center><img width=\"300px\" src=\"https://www.thoughtco.com/thmb/gItmqGd5HlnhyPIiLm1YHXOlTnw=/330x242/filters:fill(auto,1)/zscore-56a8fa785f9b58b7d0f6e87b.GIF\"></center>"
      ],
      "metadata": {
        "id": "0Mw0SaHjBZX8"
      }
    },
    {
      "cell_type": "code",
      "source": [
        "important_num_cols.remove(\"SalePrice\")\n",
        "\n",
        "scaler = StandardScaler()\n",
        "X[important_num_cols] = scaler.fit_transform(X[important_num_cols])"
      ],
      "metadata": {
        "execution": {
          "iopub.status.busy": "2022-01-07T14:43:34.601352Z",
          "iopub.execute_input": "2022-01-07T14:43:34.601607Z",
          "iopub.status.idle": "2022-01-07T14:43:34.614706Z",
          "shell.execute_reply.started": "2022-01-07T14:43:34.601579Z",
          "shell.execute_reply": "2022-01-07T14:43:34.613746Z"
        },
        "trusted": true,
        "id": "oCrLB9t8BZX8"
      },
      "execution_count": null,
      "outputs": []
    },
    {
      "cell_type": "markdown",
      "source": [
        "***As you can see, standardization is done successfully***"
      ],
      "metadata": {
        "id": "veIt34ewBZYQ"
      }
    },
    {
      "cell_type": "code",
      "source": [
        "X.head()"
      ],
      "metadata": {
        "execution": {
          "iopub.status.busy": "2022-01-07T14:43:34.616Z",
          "iopub.execute_input": "2022-01-07T14:43:34.616539Z",
          "iopub.status.idle": "2022-01-07T14:43:34.64119Z",
          "shell.execute_reply.started": "2022-01-07T14:43:34.616498Z",
          "shell.execute_reply": "2022-01-07T14:43:34.640325Z"
        },
        "trusted": true,
        "id": "ShwH-6y-BZYR"
      },
      "execution_count": null,
      "outputs": []
    },
    {
      "cell_type": "markdown",
      "source": [
        "<h1 style=\"font-family: 'Times New Roman'; letter-spacing: 0.08em;\">Train-Test Split</h1>"
      ],
      "metadata": {
        "id": "NGDc3NggBZYR"
      }
    },
    {
      "cell_type": "markdown",
      "source": [
        "***Splitting the data into Train and Test chunks for better evaluation***"
      ],
      "metadata": {
        "id": "YtSKKWRjBZYR"
      }
    },
    {
      "cell_type": "code",
      "source": [
        "X_train, X_test, y_train, y_test = train_test_split(X, y, test_size=0.2, random_state=42)"
      ],
      "metadata": {
        "execution": {
          "iopub.status.busy": "2022-01-07T14:43:34.642571Z",
          "iopub.execute_input": "2022-01-07T14:43:34.643469Z",
          "iopub.status.idle": "2022-01-07T14:43:34.651245Z",
          "shell.execute_reply.started": "2022-01-07T14:43:34.643423Z",
          "shell.execute_reply": "2022-01-07T14:43:34.650638Z"
        },
        "trusted": true,
        "id": "V_vjOidKBZYR"
      },
      "execution_count": null,
      "outputs": []
    },
    {
      "cell_type": "markdown",
      "source": [
        "***Defining several evaluation functions for convenience***"
      ],
      "metadata": {
        "id": "nfYrCbFDBZYS"
      }
    },
    {
      "cell_type": "code",
      "source": [
        "def rmse_cv(model):\n",
        "    rmse = np.sqrt(-cross_val_score(model, X, y, scoring=\"neg_mean_squared_error\", cv=5)).mean()\n",
        "    return rmse\n",
        "\n",
        "\n",
        "def evaluation(y, predictions):\n",
        "    mae = mean_absolute_error(y, predictions)\n",
        "    mse = mean_squared_error(y, predictions)\n",
        "    rmse = np.sqrt(mean_squared_error(y, predictions))\n",
        "    r_squared = r2_score(y, predictions)\n",
        "    return mae, mse, rmse, r_squared"
      ],
      "metadata": {
        "execution": {
          "iopub.status.busy": "2022-01-07T14:43:34.652374Z",
          "iopub.execute_input": "2022-01-07T14:43:34.65261Z",
          "iopub.status.idle": "2022-01-07T14:43:34.66368Z",
          "shell.execute_reply.started": "2022-01-07T14:43:34.652584Z",
          "shell.execute_reply": "2022-01-07T14:43:34.6628Z"
        },
        "trusted": true,
        "id": "lWYNXyExBZYS"
      },
      "execution_count": null,
      "outputs": []
    },
    {
      "cell_type": "markdown",
      "source": [
        "<h1 style=\"font-family: 'Times New Roman'; letter-spacing: 0.08em;\">Machine Learning Models</h1>"
      ],
      "metadata": {
        "id": "44-49qoJBZYS"
      }
    },
    {
      "cell_type": "code",
      "source": [
        "models = pd.DataFrame(columns=[\"Model\",\"MAE\",\"MSE\",\"RMSE\",\"R2 Score\",\"RMSE (Cross-Validation)\"])"
      ],
      "metadata": {
        "execution": {
          "iopub.status.busy": "2022-01-07T14:43:34.665204Z",
          "iopub.execute_input": "2022-01-07T14:43:34.665472Z",
          "iopub.status.idle": "2022-01-07T14:43:34.68131Z",
          "shell.execute_reply.started": "2022-01-07T14:43:34.665439Z",
          "shell.execute_reply": "2022-01-07T14:43:34.680302Z"
        },
        "trusted": true,
        "id": "pBPQk7gFBZYS"
      },
      "execution_count": null,
      "outputs": []
    },
    {
      "cell_type": "markdown",
      "source": [
        "<h2 style=\"font-family: 'Times New Roman'; letter-spacing: 0.05em;\">Linear Regression</h2>"
      ],
      "metadata": {
        "id": "omRohfEmBZYS"
      }
    },
    {
      "cell_type": "code",
      "source": [
        "lin_reg = LinearRegression()\n",
        "lin_reg.fit(X_train, y_train)\n",
        "predictions = lin_reg.predict(X_test)\n",
        "\n",
        "mae, mse, rmse, r_squared = evaluation(y_test, predictions)\n",
        "print(\"MAE:\", mae)\n",
        "print(\"MSE:\", mse)\n",
        "print(\"RMSE:\", rmse)\n",
        "print(\"R2 Score:\", r_squared)\n",
        "print(\"-\"*30)\n",
        "rmse_cross_val = rmse_cv(lin_reg)\n",
        "print(\"RMSE Cross-Validation:\", rmse_cross_val)\n",
        "\n",
        "new_row = {\"Model\": \"LinearRegression\",\"MAE\": mae, \"MSE\": mse, \"RMSE\": rmse, \"R2 Score\": r_squared, \"RMSE (Cross-Validation)\": rmse_cross_val}\n",
        "models = models.append(new_row, ignore_index=True)"
      ],
      "metadata": {
        "execution": {
          "iopub.status.busy": "2022-01-07T14:43:34.682562Z",
          "iopub.execute_input": "2022-01-07T14:43:34.682806Z",
          "iopub.status.idle": "2022-01-07T14:43:34.779687Z",
          "shell.execute_reply.started": "2022-01-07T14:43:34.682777Z",
          "shell.execute_reply": "2022-01-07T14:43:34.778719Z"
        },
        "trusted": true,
        "id": "mT9gkCxaBZYT"
      },
      "execution_count": null,
      "outputs": []
    },
    {
      "cell_type": "markdown",
      "source": [
        "<h2 style=\"font-family: 'Times New Roman'; letter-spacing: 0.05em;\">Ridge Regression</h2>"
      ],
      "metadata": {
        "id": "ReTLTdi-BZYT"
      }
    },
    {
      "cell_type": "code",
      "source": [
        "ridge = Ridge()\n",
        "ridge.fit(X_train, y_train)\n",
        "predictions = ridge.predict(X_test)\n",
        "\n",
        "mae, mse, rmse, r_squared = evaluation(y_test, predictions)\n",
        "print(\"MAE:\", mae)\n",
        "print(\"MSE:\", mse)\n",
        "print(\"RMSE:\", rmse)\n",
        "print(\"R2 Score:\", r_squared)\n",
        "print(\"-\"*30)\n",
        "rmse_cross_val = rmse_cv(ridge)\n",
        "print(\"RMSE Cross-Validation:\", rmse_cross_val)\n",
        "\n",
        "new_row = {\"Model\": \"Ridge\",\"MAE\": mae, \"MSE\": mse, \"RMSE\": rmse, \"R2 Score\": r_squared, \"RMSE (Cross-Validation)\": rmse_cross_val}\n",
        "models = models.append(new_row, ignore_index=True)"
      ],
      "metadata": {
        "execution": {
          "iopub.status.busy": "2022-01-07T14:43:34.78151Z",
          "iopub.execute_input": "2022-01-07T14:43:34.782262Z",
          "iopub.status.idle": "2022-01-07T14:43:34.870893Z",
          "shell.execute_reply.started": "2022-01-07T14:43:34.782205Z",
          "shell.execute_reply": "2022-01-07T14:43:34.869856Z"
        },
        "trusted": true,
        "id": "9m7_okB7BZYT"
      },
      "execution_count": null,
      "outputs": []
    },
    {
      "cell_type": "markdown",
      "source": [
        "<h2 style=\"font-family: 'Times New Roman'; letter-spacing: 0.05em;\">Lasso Regression</h2>"
      ],
      "metadata": {
        "id": "j7oi1Bt1BZYT"
      }
    },
    {
      "cell_type": "code",
      "source": [
        "lasso = Lasso()\n",
        "lasso.fit(X_train, y_train)\n",
        "predictions = lasso.predict(X_test)\n",
        "\n",
        "mae, mse, rmse, r_squared = evaluation(y_test, predictions)\n",
        "print(\"MAE:\", mae)\n",
        "print(\"MSE:\", mse)\n",
        "print(\"RMSE:\", rmse)\n",
        "print(\"R2 Score:\", r_squared)\n",
        "print(\"-\"*30)\n",
        "rmse_cross_val = rmse_cv(lasso)\n",
        "print(\"RMSE Cross-Validation:\", rmse_cross_val)\n",
        "\n",
        "new_row = {\"Model\": \"Lasso\",\"MAE\": mae, \"MSE\": mse, \"RMSE\": rmse, \"R2 Score\": r_squared, \"RMSE (Cross-Validation)\": rmse_cross_val}\n",
        "models = models.append(new_row, ignore_index=True)"
      ],
      "metadata": {
        "execution": {
          "iopub.status.busy": "2022-01-07T14:43:34.872724Z",
          "iopub.execute_input": "2022-01-07T14:43:34.8733Z",
          "iopub.status.idle": "2022-01-07T14:43:35.158926Z",
          "shell.execute_reply.started": "2022-01-07T14:43:34.873251Z",
          "shell.execute_reply": "2022-01-07T14:43:35.157992Z"
        },
        "trusted": true,
        "id": "-Wfse8i_BZYT"
      },
      "execution_count": null,
      "outputs": []
    },
    {
      "cell_type": "markdown",
      "source": [
        "<h2 style=\"font-family: 'Times New Roman'; letter-spacing: 0.05em;\">Elastic Net</h2>"
      ],
      "metadata": {
        "id": "H_FCiOsdBZYU"
      }
    },
    {
      "cell_type": "code",
      "source": [
        "elastic_net = ElasticNet()\n",
        "elastic_net.fit(X_train, y_train)\n",
        "predictions = elastic_net.predict(X_test)\n",
        "\n",
        "mae, mse, rmse, r_squared = evaluation(y_test, predictions)\n",
        "print(\"MAE:\", mae)\n",
        "print(\"MSE:\", mse)\n",
        "print(\"RMSE:\", rmse)\n",
        "print(\"R2 Score:\", r_squared)\n",
        "print(\"-\"*30)\n",
        "rmse_cross_val = rmse_cv(elastic_net)\n",
        "print(\"RMSE Cross-Validation:\", rmse_cross_val)\n",
        "\n",
        "new_row = {\"Model\": \"ElasticNet\",\"MAE\": mae, \"MSE\": mse, \"RMSE\": rmse, \"R2 Score\": r_squared, \"RMSE (Cross-Validation)\": rmse_cross_val}\n",
        "models = models.append(new_row, ignore_index=True)"
      ],
      "metadata": {
        "execution": {
          "iopub.status.busy": "2022-01-07T14:43:35.166883Z",
          "iopub.execute_input": "2022-01-07T14:43:35.170236Z",
          "iopub.status.idle": "2022-01-07T14:43:35.26547Z",
          "shell.execute_reply.started": "2022-01-07T14:43:35.170172Z",
          "shell.execute_reply": "2022-01-07T14:43:35.264476Z"
        },
        "trusted": true,
        "id": "Oy6lhbIlBZYU"
      },
      "execution_count": null,
      "outputs": []
    },
    {
      "cell_type": "markdown",
      "source": [
        "<h2 style=\"font-family: 'Times New Roman'; letter-spacing: 0.05em;\">Support Vector Machines</h2>"
      ],
      "metadata": {
        "id": "AD_rffKZBZYU"
      }
    },
    {
      "cell_type": "code",
      "source": [
        "svr = SVR(C=100000)\n",
        "svr.fit(X_train, y_train)\n",
        "predictions = svr.predict(X_test)\n",
        "\n",
        "mae, mse, rmse, r_squared = evaluation(y_test, predictions)\n",
        "print(\"MAE:\", mae)\n",
        "print(\"MSE:\", mse)\n",
        "print(\"RMSE:\", rmse)\n",
        "print(\"R2 Score:\", r_squared)\n",
        "print(\"-\"*30)\n",
        "rmse_cross_val = rmse_cv(svr)\n",
        "print(\"RMSE Cross-Validation:\", rmse_cross_val)\n",
        "\n",
        "new_row = {\"Model\": \"SVR\",\"MAE\": mae, \"MSE\": mse, \"RMSE\": rmse, \"R2 Score\": r_squared, \"RMSE (Cross-Validation)\": rmse_cross_val}\n",
        "models = models.append(new_row, ignore_index=True)"
      ],
      "metadata": {
        "execution": {
          "iopub.status.busy": "2022-01-07T14:43:35.271234Z",
          "iopub.execute_input": "2022-01-07T14:43:35.272053Z",
          "iopub.status.idle": "2022-01-07T14:43:37.359114Z",
          "shell.execute_reply.started": "2022-01-07T14:43:35.271995Z",
          "shell.execute_reply": "2022-01-07T14:43:37.358258Z"
        },
        "trusted": true,
        "id": "DG61bdirBZYU"
      },
      "execution_count": null,
      "outputs": []
    },
    {
      "cell_type": "markdown",
      "source": [
        "<h2 style=\"font-family: 'Times New Roman'; letter-spacing: 0.05em;\">Random Forest Regressor</h2>"
      ],
      "metadata": {
        "id": "r1Lzm5ByBZYV"
      }
    },
    {
      "cell_type": "code",
      "source": [
        "random_forest = RandomForestRegressor(n_estimators=100)\n",
        "random_forest.fit(X_train, y_train)\n",
        "predictions = random_forest.predict(X_test)\n",
        "\n",
        "mae, mse, rmse, r_squared = evaluation(y_test, predictions)\n",
        "print(\"MAE:\", mae)\n",
        "print(\"MSE:\", mse)\n",
        "print(\"RMSE:\", rmse)\n",
        "print(\"R2 Score:\", r_squared)\n",
        "print(\"-\"*30)\n",
        "rmse_cross_val = rmse_cv(random_forest)\n",
        "print(\"RMSE Cross-Validation:\", rmse_cross_val)\n",
        "\n",
        "new_row = {\"Model\": \"RandomForestRegressor\",\"MAE\": mae, \"MSE\": mse, \"RMSE\": rmse, \"R2 Score\": r_squared, \"RMSE (Cross-Validation)\": rmse_cross_val}\n",
        "models = models.append(new_row, ignore_index=True)"
      ],
      "metadata": {
        "execution": {
          "iopub.status.busy": "2022-01-07T14:43:37.360272Z",
          "iopub.execute_input": "2022-01-07T14:43:37.360544Z",
          "iopub.status.idle": "2022-01-07T14:43:42.468528Z",
          "shell.execute_reply.started": "2022-01-07T14:43:37.360513Z",
          "shell.execute_reply": "2022-01-07T14:43:42.467601Z"
        },
        "trusted": true,
        "id": "JR0724ctBZYV"
      },
      "execution_count": null,
      "outputs": []
    },
    {
      "cell_type": "markdown",
      "source": [
        "<h2 style=\"font-family: 'Times New Roman'; letter-spacing: 0.05em;\">XGBoost Regressor</h2>"
      ],
      "metadata": {
        "id": "xuofPMrmBZYV"
      }
    },
    {
      "cell_type": "code",
      "source": [
        "xgb = XGBRegressor(n_estimators=1000, learning_rate=0.01)\n",
        "xgb.fit(X_train, y_train)\n",
        "predictions = xgb.predict(X_test)\n",
        "\n",
        "mae, mse, rmse, r_squared = evaluation(y_test, predictions)\n",
        "print(\"MAE:\", mae)\n",
        "print(\"MSE:\", mse)\n",
        "print(\"RMSE:\", rmse)\n",
        "print(\"R2 Score:\", r_squared)\n",
        "print(\"-\"*30)\n",
        "rmse_cross_val = rmse_cv(xgb)\n",
        "print(\"RMSE Cross-Validation:\", rmse_cross_val)\n",
        "\n",
        "new_row = {\"Model\": \"XGBRegressor\",\"MAE\": mae, \"MSE\": mse, \"RMSE\": rmse, \"R2 Score\": r_squared, \"RMSE (Cross-Validation)\": rmse_cross_val}\n",
        "models = models.append(new_row, ignore_index=True)"
      ],
      "metadata": {
        "execution": {
          "iopub.status.busy": "2022-01-07T14:43:42.469916Z",
          "iopub.execute_input": "2022-01-07T14:43:42.470222Z",
          "iopub.status.idle": "2022-01-07T14:44:08.097545Z",
          "shell.execute_reply.started": "2022-01-07T14:43:42.470179Z",
          "shell.execute_reply": "2022-01-07T14:44:08.096585Z"
        },
        "trusted": true,
        "id": "-Dhtjt-eBZYV"
      },
      "execution_count": null,
      "outputs": []
    },
    {
      "cell_type": "markdown",
      "source": [
        "<h2 style=\"font-family: 'Times New Roman'; letter-spacing: 0.05em;\">Polynomial Regression (Degree=2)</h2>"
      ],
      "metadata": {
        "id": "B4TpzyLwBZYV"
      }
    },
    {
      "cell_type": "code",
      "source": [
        "poly_reg = PolynomialFeatures(degree=2)\n",
        "X_train_2d = poly_reg.fit_transform(X_train)\n",
        "X_test_2d = poly_reg.transform(X_test)\n",
        "\n",
        "lin_reg = LinearRegression()\n",
        "lin_reg.fit(X_train_2d, y_train)\n",
        "predictions = lin_reg.predict(X_test_2d)\n",
        "\n",
        "mae, mse, rmse, r_squared = evaluation(y_test, predictions)\n",
        "print(\"MAE:\", mae)\n",
        "print(\"MSE:\", mse)\n",
        "print(\"RMSE:\", rmse)\n",
        "print(\"R2 Score:\", r_squared)\n",
        "print(\"-\"*30)\n",
        "rmse_cross_val = rmse_cv(lin_reg)\n",
        "print(\"RMSE Cross-Validation:\", rmse_cross_val)\n",
        "\n",
        "new_row = {\"Model\": \"Polynomial Regression (degree=2)\",\"MAE\": mae, \"MSE\": mse, \"RMSE\": rmse, \"R2 Score\": r_squared, \"RMSE (Cross-Validation)\": rmse_cross_val}\n",
        "models = models.append(new_row, ignore_index=True)"
      ],
      "metadata": {
        "execution": {
          "iopub.status.busy": "2022-01-07T14:44:08.098994Z",
          "iopub.execute_input": "2022-01-07T14:44:08.099433Z",
          "iopub.status.idle": "2022-01-07T14:44:08.467015Z",
          "shell.execute_reply.started": "2022-01-07T14:44:08.099364Z",
          "shell.execute_reply": "2022-01-07T14:44:08.466047Z"
        },
        "trusted": true,
        "id": "FsYlcXNmBZYW"
      },
      "execution_count": null,
      "outputs": []
    },
    {
      "cell_type": "markdown",
      "source": [
        "<h1 style=\"font-family: 'Times New Roman'; letter-spacing: 0.08em;\">Model Comparison</h1>"
      ],
      "metadata": {
        "id": "nORDvE-iBZYW"
      }
    },
    {
      "cell_type": "markdown",
      "source": [
        "***The less the Root Mean Squared Error (RMSE), The better the model is.***"
      ],
      "metadata": {
        "id": "_ukVN9xaBZYW"
      }
    },
    {
      "cell_type": "code",
      "source": [
        "models.sort_values(by=\"RMSE (Cross-Validation)\")"
      ],
      "metadata": {
        "execution": {
          "iopub.status.busy": "2022-01-07T14:44:08.469051Z",
          "iopub.execute_input": "2022-01-07T14:44:08.469807Z",
          "iopub.status.idle": "2022-01-07T14:44:08.49511Z",
          "shell.execute_reply.started": "2022-01-07T14:44:08.469751Z",
          "shell.execute_reply": "2022-01-07T14:44:08.494138Z"
        },
        "trusted": true,
        "id": "EGndSVfwBZYW"
      },
      "execution_count": null,
      "outputs": []
    },
    {
      "cell_type": "code",
      "source": [
        "plt.figure(figsize=(12,8))\n",
        "sns.barplot(x=models[\"Model\"], y=models[\"RMSE (Cross-Validation)\"])\n",
        "plt.title(\"Models' RMSE Scores (Cross-Validated)\", size=15)\n",
        "plt.xticks(rotation=30, size=12)\n",
        "plt.show()"
      ],
      "metadata": {
        "execution": {
          "iopub.status.busy": "2022-01-07T14:44:08.497301Z",
          "iopub.execute_input": "2022-01-07T14:44:08.498158Z",
          "iopub.status.idle": "2022-01-07T14:44:08.808618Z",
          "shell.execute_reply.started": "2022-01-07T14:44:08.498094Z",
          "shell.execute_reply": "2022-01-07T14:44:08.805053Z"
        },
        "trusted": true,
        "id": "KjXQycrgBZYW"
      },
      "execution_count": null,
      "outputs": []
    },
    {
      "cell_type": "markdown",
      "source": [
        "<center><h2 style=\"font-family: 'Times New Roman'; letter-spacing: 0.03em;\">Thank you so much for reading notebook. Preparing this notebook took me a great deal of time. If you liked it, please do not forget to give upvote. Peace Out ✌️ ...</h2></center>"
      ],
      "metadata": {
        "id": "bIWwk38vBZYX"
      }
    }
  ]
}